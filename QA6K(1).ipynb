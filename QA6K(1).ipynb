{
 "cells": [
  {
   "cell_type": "code",
   "execution_count": 7,
   "id": "5b4ea4e7",
   "metadata": {},
   "outputs": [],
   "source": [
    "import numpy as np \n",
    "import pandas as pd \n",
    "import matplotlib.pyplot as plt\n",
    "import seaborn as sns\n"
   ]
  },
  {
   "cell_type": "code",
   "execution_count": 8,
   "id": "b384f4d2",
   "metadata": {},
   "outputs": [
    {
     "data": {
      "text/html": [
       "<div>\n",
       "<style scoped>\n",
       "    .dataframe tbody tr th:only-of-type {\n",
       "        vertical-align: middle;\n",
       "    }\n",
       "\n",
       "    .dataframe tbody tr th {\n",
       "        vertical-align: top;\n",
       "    }\n",
       "\n",
       "    .dataframe thead th {\n",
       "        text-align: right;\n",
       "    }\n",
       "</style>\n",
       "<table border=\"1\" class=\"dataframe\">\n",
       "  <thead>\n",
       "    <tr style=\"text-align: right;\">\n",
       "      <th></th>\n",
       "      <th>country</th>\n",
       "      <th>Region</th>\n",
       "      <th>Surface area (km2)</th>\n",
       "      <th>Population in thousands (2017)</th>\n",
       "      <th>GDP per capita (current US$)</th>\n",
       "      <th>Agricultural production index</th>\n",
       "      <th>International trade: Imports (million US$)</th>\n",
       "    </tr>\n",
       "  </thead>\n",
       "  <tbody>\n",
       "    <tr>\n",
       "      <th>0</th>\n",
       "      <td>Afghanistan</td>\n",
       "      <td>SouthernAsia</td>\n",
       "      <td>652864.0</td>\n",
       "      <td>35530.0</td>\n",
       "      <td>623.2</td>\n",
       "      <td>125.0</td>\n",
       "      <td>3568.0</td>\n",
       "    </tr>\n",
       "    <tr>\n",
       "      <th>1</th>\n",
       "      <td>Albania</td>\n",
       "      <td>SouthernEurope</td>\n",
       "      <td>28748.0</td>\n",
       "      <td>2930.0</td>\n",
       "      <td>3984.2</td>\n",
       "      <td>134.0</td>\n",
       "      <td>4669.0</td>\n",
       "    </tr>\n",
       "    <tr>\n",
       "      <th>2</th>\n",
       "      <td>Algeria</td>\n",
       "      <td>NorthernAfrica</td>\n",
       "      <td>2381741.0</td>\n",
       "      <td>41318.0</td>\n",
       "      <td>4154.1</td>\n",
       "      <td>160.0</td>\n",
       "      <td>47091.0</td>\n",
       "    </tr>\n",
       "    <tr>\n",
       "      <th>3</th>\n",
       "      <td>Angola</td>\n",
       "      <td>MiddleAfrica</td>\n",
       "      <td>1246700.0</td>\n",
       "      <td>29784.0</td>\n",
       "      <td>4714.1</td>\n",
       "      <td>175.0</td>\n",
       "      <td>8790.0</td>\n",
       "    </tr>\n",
       "    <tr>\n",
       "      <th>4</th>\n",
       "      <td>Antigua and Barbuda</td>\n",
       "      <td>Caribbean</td>\n",
       "      <td>442.0</td>\n",
       "      <td>102.0</td>\n",
       "      <td>14764.5</td>\n",
       "      <td>88.0</td>\n",
       "      <td>491.0</td>\n",
       "    </tr>\n",
       "  </tbody>\n",
       "</table>\n",
       "</div>"
      ],
      "text/plain": [
       "               country          Region  Surface area (km2)  \\\n",
       "0          Afghanistan    SouthernAsia            652864.0   \n",
       "1              Albania  SouthernEurope             28748.0   \n",
       "2              Algeria  NorthernAfrica           2381741.0   \n",
       "3               Angola    MiddleAfrica           1246700.0   \n",
       "4  Antigua and Barbuda       Caribbean               442.0   \n",
       "\n",
       "   Population in thousands (2017)  GDP per capita (current US$)  \\\n",
       "0                         35530.0                         623.2   \n",
       "1                          2930.0                        3984.2   \n",
       "2                         41318.0                        4154.1   \n",
       "3                         29784.0                        4714.1   \n",
       "4                           102.0                       14764.5   \n",
       "\n",
       "   Agricultural production index   International trade: Imports (million US$)  \n",
       "0                           125.0                                      3568.0  \n",
       "1                           134.0                                      4669.0  \n",
       "2                           160.0                                     47091.0  \n",
       "3                           175.0                                      8790.0  \n",
       "4                            88.0                                       491.0  "
      ]
     },
     "execution_count": 8,
     "metadata": {},
     "output_type": "execute_result"
    }
   ],
   "source": [
    "df=pd.read_excel(\"E:\\data science\\Dataset_w6.xlsx\")\n",
    "df.head()"
   ]
  },
  {
   "cell_type": "markdown",
   "id": "b8e50342",
   "metadata": {},
   "source": [
    "# Find out how many countries are there in the dataset"
   ]
  },
  {
   "cell_type": "code",
   "execution_count": 9,
   "id": "fc18d741",
   "metadata": {},
   "outputs": [
    {
     "name": "stdout",
     "output_type": "stream",
     "text": [
      "Number countries are there in the dataset: 196\n"
     ]
    }
   ],
   "source": [
    "print(\"Number countries are there in the dataset:\",df.country.count())"
   ]
  },
  {
   "cell_type": "markdown",
   "id": "23f28cee",
   "metadata": {},
   "source": [
    "# Examine the data by using visualizations.\n"
   ]
  },
  {
   "cell_type": "code",
   "execution_count": 21,
   "id": "c6c20d9d",
   "metadata": {},
   "outputs": [
    {
     "data": {
      "image/png": "[encoded data removed]",
      "text/plain": [
       "<Figure size 1080x864 with 1 Axes>"
      ]
     },
     "metadata": {
      "needs_background": "light"
     },
     "output_type": "display_data"
    }
   ],
   "source": [
    "plt.figure(figsize=(15,12))\n",
    "sns.countplot(x='Region',data=df)\n",
    "plt.title('Population in thousands')\n",
    "plt.xticks(rotation=90)\n",
    "plt.show()"
   ]
  },
  {
   "cell_type": "code",
   "execution_count": 40,
   "id": "e95165ee",
   "metadata": {},
   "outputs": [
    {
     "data": {
      "text/plain": [
       "(array([ 0,  1,  2,  3,  4,  5,  6,  7,  8,  9, 10, 11, 12, 13, 14, 15, 16,\n",
       "        17, 18, 19, 20, 21]),\n",
       " [Text(0, 0, 'SouthernAsia'),\n",
       "  Text(1, 0, 'SouthernEurope'),\n",
       "  Text(2, 0, 'NorthernAfrica'),\n",
       "  Text(3, 0, 'MiddleAfrica'),\n",
       "  Text(4, 0, 'Caribbean'),\n",
       "  Text(5, 0, 'SouthAmerica'),\n",
       "  Text(6, 0, 'WesternAsia'),\n",
       "  Text(7, 0, 'Oceania'),\n",
       "  Text(8, 0, 'WesternEurope'),\n",
       "  Text(9, 0, 'EasternEurope'),\n",
       "  Text(10, 0, 'CentralAmerica'),\n",
       "  Text(11, 0, 'WesternAfrica'),\n",
       "  Text(12, 0, 'NorthernAmerica'),\n",
       "  Text(13, 0, 'SouthernAfrica'),\n",
       "  Text(14, 0, 'South-easternAsia'),\n",
       "  Text(15, 0, 'EasternAfrica'),\n",
       "  Text(16, 0, 'EasternAsia'),\n",
       "  Text(17, 0, 'Polynesia'),\n",
       "  Text(18, 0, 'NorthernEurope'),\n",
       "  Text(19, 0, 'Melanesia'),\n",
       "  Text(20, 0, 'CentralAsia'),\n",
       "  Text(21, 0, 'Micronesia')])"
      ]
     },
     "execution_count": 40,
     "metadata": {},
     "output_type": "execute_result"
    },
    {
     "data": {
      "image/png": "[encoded data removed]",
      "text/plain": [
       "<Figure size 1296x720 with 1 Axes>"
      ]
     },
     "metadata": {
      "needs_background": "light"
     },
     "output_type": "display_data"
    }
   ],
   "source": [
    "plt.figure(figsize=(18,10))\n",
    "plt.title(\"Distribution of GDP in various Region\")\n",
    "sns.barplot(x='Region', y='GDP per capita (current US$)', data = df)\n",
    "plt.xticks(rotation=90)"
   ]
  },
  {
   "cell_type": "markdown",
   "id": "cc5e136d",
   "metadata": {},
   "source": [
    "# Find out how many countries with respect to the region are available in the dataset"
   ]
  },
  {
   "cell_type": "code",
   "execution_count": 12,
   "id": "a44933d5",
   "metadata": {},
   "outputs": [
    {
     "data": {
      "text/plain": [
       "WesternAsia          18\n",
       "EasternAfrica        17\n",
       "Caribbean            16\n",
       "WesternAfrica        15\n",
       "SouthAmerica         12\n",
       "SouthernEurope       12\n",
       "South-easternAsia    11\n",
       "EasternEurope        10\n",
       "NorthernEurope       10\n",
       "SouthernAsia          9\n",
       "MiddleAfrica          9\n",
       "CentralAmerica        8\n",
       "WesternEurope         7\n",
       "EasternAsia           7\n",
       "SouthernAfrica        5\n",
       "Polynesia             5\n",
       "NorthernAfrica        5\n",
       "Melanesia             5\n",
       "CentralAsia           5\n",
       "NorthernAmerica       4\n",
       "Micronesia            4\n",
       "Oceania               2\n",
       "Name: Region, dtype: int64"
      ]
     },
     "execution_count": 12,
     "metadata": {},
     "output_type": "execute_result"
    }
   ],
   "source": [
    "df['Region'].value_counts()"
   ]
  },
  {
   "cell_type": "markdown",
   "id": "0584e927",
   "metadata": {},
   "source": [
    "# On average which region has the highest"
   ]
  },
  {
   "cell_type": "markdown",
   "id": "6692c37b",
   "metadata": {},
   "source": [
    "a. GDP per capita (current US$)"
   ]
  },
  {
   "cell_type": "code",
   "execution_count": 13,
   "id": "94d74572",
   "metadata": {},
   "outputs": [
    {
     "data": {
      "text/plain": [
       "Region\n",
       "NorthernAmerica    57659.0\n",
       "Name: GDP per capita (current US$), dtype: float64"
      ]
     },
     "execution_count": 13,
     "metadata": {},
     "output_type": "execute_result"
    }
   ],
   "source": [
    "high_dgp = df.groupby('Region')['GDP per capita (current US$)'].mean() \n",
    "high_dgp.nlargest(1)"
   ]
  },
  {
   "cell_type": "markdown",
   "id": "91898d0e",
   "metadata": {},
   "source": [
    "\n",
    "\n",
    "b. International trade: Imports (million US$)\n"
   ]
  },
  {
   "cell_type": "code",
   "execution_count": 14,
   "id": "280e66af",
   "metadata": {},
   "outputs": [
    {
     "data": {
      "text/plain": [
       "Region\n",
       "NorthernAmerica    663552.25\n",
       "Name: International trade: Imports (million US$), dtype: float64"
      ]
     },
     "execution_count": 14,
     "metadata": {},
     "output_type": "execute_result"
    }
   ],
   "source": [
    "high_imports = df.groupby('Region')['International trade: Imports (million US$)'].mean() \n",
    "high_imports.nlargest(1)"
   ]
  },
  {
   "cell_type": "markdown",
   "id": "d810c575",
   "metadata": {},
   "source": [
    "# Find out which region has more consistent with respect to GDP per capita (current US$)"
   ]
  },
  {
   "cell_type": "code",
   "execution_count": 15,
   "id": "97afa89e",
   "metadata": {},
   "outputs": [
    {
     "name": "stdout",
     "output_type": "stream",
     "text": [
      "Region has more consistent with respect to GDP percapita (current US$) is:\n"
     ]
    },
    {
     "data": {
      "text/plain": [
       "Region\n",
       "WesternAfrica    815.095399\n",
       "Name: GDP per capita (current US$), dtype: float64"
      ]
     },
     "execution_count": 15,
     "metadata": {},
     "output_type": "execute_result"
    }
   ],
   "source": [
    "std1 = df.groupby('Region')['GDP per capita (current US$)'].std() \n",
    "print(\"Region has more consistent with respect to GDP percapita (current US$) is:\")\n",
    "std1.nsmallest(1)"
   ]
  }
 ],
 "metadata": {
  "kernelspec": {
   "display_name": "Python 3 (ipykernel)",
   "language": "python",
   "name": "python3"
  },
  "language_info": {
   "codemirror_mode": {
    "name": "ipython",
    "version": 3
   },
   "file_extension": ".py",
   "mimetype": "text/x-python",
   "name": "python",
   "nbconvert_exporter": "python",
   "pygments_lexer": "ipython3",
   "version": "3.9.7"
  }
 },
 "nbformat": 4,
 "nbformat_minor": 5
}
